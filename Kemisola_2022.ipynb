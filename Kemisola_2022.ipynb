{
  "nbformat": 4,
  "nbformat_minor": 0,
  "metadata": {
    "colab": {
      "provenance": [],
      "authorship_tag": "ABX9TyPslpFFoza/HU4n9heljOiG",
      "include_colab_link": true
    },
    "kernelspec": {
      "name": "python3",
      "display_name": "Python 3"
    },
    "language_info": {
      "name": "python"
    }
  },
  "cells": [
    {
      "cell_type": "markdown",
      "metadata": {
        "id": "view-in-github",
        "colab_type": "text"
      },
      "source": [
        "<a href=\"https://colab.research.google.com/github/Kemisola2022/Ksola-Tutorial/blob/main/Kemisola_2022.ipynb\" target=\"_parent\"><img src=\"https://colab.research.google.com/assets/colab-badge.svg\" alt=\"Open In Colab\"/></a>"
      ]
    },
    {
      "cell_type": "markdown",
      "source": [
        "**Indentation in Python**"
      ],
      "metadata": {
        "id": "-l_Pc0Fq0yDB"
      }
    },
    {
      "cell_type": "code",
      "execution_count": null,
      "metadata": {
        "colab": {
          "base_uri": "https://localhost:8080/"
        },
        "id": "unDWwXt8X3eJ",
        "outputId": "a957ad5a-36a0-4c6a-8525-51049277edf6"
      },
      "outputs": [
        {
          "output_type": "stream",
          "name": "stdout",
          "text": [
            "1\n",
            "2\n",
            "3\n",
            "4\n",
            "5\n",
            "6\n",
            "7\n",
            "8\n",
            "9\n",
            "10\n"
          ]
        }
      ],
      "source": [
        "for i in range(1,11):\n",
        " print(i)\n",
        "\n",
        "\n"
      ]
    },
    {
      "cell_type": "code",
      "source": [
        "import math"
      ],
      "metadata": {
        "id": "XxGhVc1k5Tby"
      },
      "execution_count": null,
      "outputs": []
    },
    {
      "cell_type": "code",
      "source": [
        "from math import pi"
      ],
      "metadata": {
        "id": "U_LimWXB57mt"
      },
      "execution_count": null,
      "outputs": []
    },
    {
      "cell_type": "code",
      "source": [],
      "metadata": {
        "id": "06dg8Ug6At5E"
      },
      "execution_count": null,
      "outputs": []
    },
    {
      "cell_type": "code",
      "source": [
        "for i in range(1,11):\n",
        "  print(i)"
      ],
      "metadata": {
        "colab": {
          "base_uri": "https://localhost:8080/"
        },
        "id": "DLRlshAXurBz",
        "outputId": "d02431cc-4b6e-429a-ff20-3a63f6b2f655"
      },
      "execution_count": null,
      "outputs": [
        {
          "output_type": "stream",
          "name": "stdout",
          "text": [
            "1\n",
            "2\n",
            "3\n",
            "4\n",
            "5\n",
            "6\n",
            "7\n",
            "8\n",
            "9\n",
            "10\n"
          ]
        }
      ]
    },
    {
      "cell_type": "code",
      "source": [
        "'''This is also a\n",
        "perfect example of\n",
        "multi-line comments'''"
      ],
      "metadata": {
        "colab": {
          "base_uri": "https://localhost:8080/",
          "height": 35
        },
        "id": "gooPUgm8zKWB",
        "outputId": "a144f756-e6e0-4726-f9b5-5caf8ffbb822"
      },
      "execution_count": null,
      "outputs": [
        {
          "output_type": "execute_result",
          "data": {
            "text/plain": [
              "'This is also a\\nperfect example of\\nmulti-line comments'"
            ],
            "application/vnd.google.colaboratory.intrinsic+json": {
              "type": "string"
            }
          },
          "metadata": {},
          "execution_count": 13
        }
      ]
    },
    {
      "cell_type": "code",
      "source": [
        "\"\"\"This is also a\n",
        "perfect example of\n",
        "multi-line comments\"\"\""
      ],
      "metadata": {
        "colab": {
          "base_uri": "https://localhost:8080/",
          "height": 35
        },
        "id": "jhWUszqDzdAZ",
        "outputId": "80928574-0af9-4592-84f1-27bce98b6eba"
      },
      "execution_count": null,
      "outputs": [
        {
          "output_type": "execute_result",
          "data": {
            "text/plain": [
              "'This is also a\\nperfect example of\\nmulti-line comments'"
            ],
            "application/vnd.google.colaboratory.intrinsic+json": {
              "type": "string"
            }
          },
          "metadata": {},
          "execution_count": 14
        }
      ]
    },
    {
      "cell_type": "code",
      "source": [
        "x = input\n",
        "y = input\n",
        "Sum R = x + y\n",
        "\n"
      ],
      "metadata": {
        "id": "JFRk2QdE0JMg"
      },
      "execution_count": null,
      "outputs": []
    },
    {
      "cell_type": "code",
      "source": [
        "x = input()"
      ],
      "metadata": {
        "colab": {
          "base_uri": "https://localhost:8080/"
        },
        "id": "sePjRAc3E-_T",
        "outputId": "cad37b42-c959-4a60-8145-be7f64c50604"
      },
      "execution_count": null,
      "outputs": [
        {
          "name": "stdout",
          "output_type": "stream",
          "text": [
            "54\n"
          ]
        }
      ]
    },
    {
      "cell_type": "code",
      "source": [
        "x = input(45)\n"
      ],
      "metadata": {
        "colab": {
          "base_uri": "https://localhost:8080/"
        },
        "id": "UMJpuQpXFk6M",
        "outputId": "28b6efd2-5cad-4bfe-fa35-f06ecfb4b3c4"
      },
      "execution_count": null,
      "outputs": [
        {
          "name": "stdout",
          "output_type": "stream",
          "text": [
            "45Months\n"
          ]
        }
      ]
    },
    {
      "cell_type": "code",
      "source": [
        "x = 10\n",
        "print(x)\n"
      ],
      "metadata": {
        "colab": {
          "base_uri": "https://localhost:8080/"
        },
        "id": "Y0ToP5-lHqvR",
        "outputId": "7dd7153b-958f-4bb0-b972-04bf6107f5c2"
      },
      "execution_count": null,
      "outputs": [
        {
          "output_type": "stream",
          "name": "stdout",
          "text": [
            "10\n"
          ]
        }
      ]
    },
    {
      "cell_type": "code",
      "source": [
        "a,b,c=5,3,2\n",
        "print(a)\n",
        "print(b)\n",
        "print(c)"
      ],
      "metadata": {
        "colab": {
          "base_uri": "https://localhost:8080/"
        },
        "id": "fEDo-1AKJAyb",
        "outputId": "50999aa0-3d91-47fe-a270-5f99dc67efce"
      },
      "execution_count": null,
      "outputs": [
        {
          "output_type": "stream",
          "name": "stdout",
          "text": [
            "5\n",
            "3\n",
            "2\n"
          ]
        }
      ]
    },
    {
      "cell_type": "code",
      "source": [
        "a,b,c,d=5,3,2,\"Hello\"\n",
        "print(a)\n",
        "print(b)\n",
        "print(c)\n",
        "print(d)\n"
      ],
      "metadata": {
        "colab": {
          "base_uri": "https://localhost:8080/"
        },
        "id": "6d1H4BBgKeiP",
        "outputId": "7d889a70-4bb2-4407-f785-6c976839c667"
      },
      "execution_count": null,
      "outputs": [
        {
          "output_type": "stream",
          "name": "stdout",
          "text": [
            "5\n",
            "3\n",
            "2\n",
            "Hello\n"
          ]
        }
      ]
    },
    {
      "cell_type": "code",
      "source": [
        "x=39\n",
        "print(type(x))"
      ],
      "metadata": {
        "colab": {
          "base_uri": "https://localhost:8080/"
        },
        "id": "P9Fo51CgLk8R",
        "outputId": "95fbabb5-d260-48c3-f28c-48d67a49d164"
      },
      "execution_count": null,
      "outputs": [
        {
          "output_type": "stream",
          "name": "stdout",
          "text": [
            "<class 'int'>\n"
          ]
        }
      ]
    },
    {
      "cell_type": "code",
      "source": [
        "x='Kemolala'\n",
        "print(type(x))"
      ],
      "metadata": {
        "colab": {
          "base_uri": "https://localhost:8080/"
        },
        "id": "EVB5GtcSMArq",
        "outputId": "1c272f3a-3ec0-4736-b0d0-1b03cf46560f"
      },
      "execution_count": null,
      "outputs": [
        {
          "output_type": "stream",
          "name": "stdout",
          "text": [
            "<class 'str'>\n"
          ]
        }
      ]
    },
    {
      "cell_type": "code",
      "source": [
        "x=5\n",
        "y=7\n",
        "print(x+y)"
      ],
      "metadata": {
        "colab": {
          "base_uri": "https://localhost:8080/"
        },
        "id": "0rOc9n-4Mxvc",
        "outputId": "4784b05e-d7e1-4fc1-b4bb-a4d61b080929"
      },
      "execution_count": null,
      "outputs": [
        {
          "output_type": "stream",
          "name": "stdout",
          "text": [
            "12\n"
          ]
        }
      ]
    },
    {
      "cell_type": "code",
      "source": [
        "print(x**y)"
      ],
      "metadata": {
        "colab": {
          "base_uri": "https://localhost:8080/"
        },
        "id": "VinxX_1dNLFr",
        "outputId": "0b8dc167-a10a-4a49-fc6b-b02f9d0e35c2"
      },
      "execution_count": null,
      "outputs": [
        {
          "output_type": "stream",
          "name": "stdout",
          "text": [
            "78125\n"
          ]
        }
      ]
    },
    {
      "cell_type": "code",
      "source": [
        "print(x<=y)"
      ],
      "metadata": {
        "colab": {
          "base_uri": "https://localhost:8080/"
        },
        "id": "jZ2Cppt5ONtC",
        "outputId": "476e6685-52e7-4b43-f54c-4aa7f26f036e"
      },
      "execution_count": null,
      "outputs": [
        {
          "output_type": "stream",
          "name": "stdout",
          "text": [
            "True\n"
          ]
        }
      ]
    },
    {
      "cell_type": "code",
      "source": [
        "print(x==y)"
      ],
      "metadata": {
        "colab": {
          "base_uri": "https://localhost:8080/"
        },
        "id": "SWyR1QnnOXbc",
        "outputId": "a96d15b0-933d-4115-cd91-4e3366cf7251"
      },
      "execution_count": null,
      "outputs": [
        {
          "output_type": "stream",
          "name": "stdout",
          "text": [
            "False\n"
          ]
        }
      ]
    },
    {
      "cell_type": "code",
      "source": [
        "x=48\n",
        "y=48\n",
        "print(x==y)\n"
      ],
      "metadata": {
        "colab": {
          "base_uri": "https://localhost:8080/"
        },
        "id": "BKs3bq09Oytp",
        "outputId": "79f776c3-9f08-43cd-e625-80801c32c3e0"
      },
      "execution_count": null,
      "outputs": [
        {
          "output_type": "stream",
          "name": "stdout",
          "text": [
            "True\n"
          ]
        }
      ]
    },
    {
      "cell_type": "code",
      "source": [
        "not(x < 5 and y < 10)"
      ],
      "metadata": {
        "colab": {
          "base_uri": "https://localhost:8080/"
        },
        "id": "q7tqB4QyPLos",
        "outputId": "96b1d1c8-7611-43d9-94aa-8e35ce68ea64"
      },
      "execution_count": null,
      "outputs": [
        {
          "output_type": "execute_result",
          "data": {
            "text/plain": [
              "True"
            ]
          },
          "metadata": {},
          "execution_count": 23
        }
      ]
    },
    {
      "cell_type": "code",
      "source": [
        "x > 58 and y > 10"
      ],
      "metadata": {
        "colab": {
          "base_uri": "https://localhost:8080/"
        },
        "id": "Bi2WQELMQZoo",
        "outputId": "c80d1f7c-b4d4-4724-d879-b53ca674da0f"
      },
      "execution_count": null,
      "outputs": [
        {
          "output_type": "execute_result",
          "data": {
            "text/plain": [
              "False"
            ]
          },
          "metadata": {},
          "execution_count": 27
        }
      ]
    },
    {
      "cell_type": "code",
      "source": [
        "print(x)"
      ],
      "metadata": {
        "colab": {
          "base_uri": "https://localhost:8080/"
        },
        "id": "HuItg2vmQ_WX",
        "outputId": "6b613c5c-d530-4077-9247-91f8af14a1bf"
      },
      "execution_count": null,
      "outputs": [
        {
          "output_type": "stream",
          "name": "stdout",
          "text": [
            "48\n"
          ]
        }
      ]
    },
    {
      "cell_type": "code",
      "source": [
        "my_string = 'Kemisola is here'\n",
        "print(my_string)"
      ],
      "metadata": {
        "colab": {
          "base_uri": "https://localhost:8080/"
        },
        "id": "XHFPolRnaKx5",
        "outputId": "f26172b5-a4bc-41f4-b613-57800b81ed07"
      },
      "execution_count": null,
      "outputs": [
        {
          "output_type": "stream",
          "name": "stdout",
          "text": [
            "Kemisola is here\n"
          ]
        }
      ]
    },
    {
      "cell_type": "code",
      "source": [
        "print(my_string[0])"
      ],
      "metadata": {
        "colab": {
          "base_uri": "https://localhost:8080/"
        },
        "id": "KsSXN7yrasKo",
        "outputId": "00bab203-0587-4f50-f007-bd576ceb5e23"
      },
      "execution_count": null,
      "outputs": [
        {
          "output_type": "stream",
          "name": "stdout",
          "text": [
            "K\n"
          ]
        }
      ]
    },
    {
      "cell_type": "code",
      "source": [
        "print(my_string[-4])"
      ],
      "metadata": {
        "colab": {
          "base_uri": "https://localhost:8080/"
        },
        "id": "98LJOESDbEEL",
        "outputId": "a7fd0892-aba3-41d2-ac49-90e3d0e471fc"
      },
      "execution_count": null,
      "outputs": [
        {
          "output_type": "stream",
          "name": "stdout",
          "text": [
            "h\n"
          ]
        }
      ]
    },
    {
      "cell_type": "code",
      "source": [
        "print(my_string[1:5])"
      ],
      "metadata": {
        "colab": {
          "base_uri": "https://localhost:8080/"
        },
        "id": "oNdhRh3KdpD5",
        "outputId": "0c57a1e7-033a-4875-85b8-a11c59789810"
      },
      "execution_count": null,
      "outputs": [
        {
          "output_type": "stream",
          "name": "stdout",
          "text": [
            "emis\n"
          ]
        }
      ]
    },
    {
      "cell_type": "code",
      "source": [
        "print(my_string[-0:5])"
      ],
      "metadata": {
        "colab": {
          "base_uri": "https://localhost:8080/"
        },
        "id": "miANu_GCdx5u",
        "outputId": "a07d7ba9-40e6-4393-ce96-c2c45cdd82fc"
      },
      "execution_count": null,
      "outputs": [
        {
          "output_type": "stream",
          "name": "stdout",
          "text": [
            "Kemis\n"
          ]
        }
      ]
    },
    {
      "cell_type": "code",
      "source": [
        "print(my_string[-4:-7])"
      ],
      "metadata": {
        "colab": {
          "base_uri": "https://localhost:8080/"
        },
        "id": "_of9xixid6Ck",
        "outputId": "a118636a-4ced-478f-ccc5-217d873a8637"
      },
      "execution_count": null,
      "outputs": [
        {
          "output_type": "stream",
          "name": "stdout",
          "text": [
            "\n"
          ]
        }
      ]
    },
    {
      "cell_type": "code",
      "source": [
        "str1 = \"I love\"\n",
        "str2 = \" my babies\"\n",
        "print(str1 + str2)"
      ],
      "metadata": {
        "colab": {
          "base_uri": "https://localhost:8080/"
        },
        "id": "15B992KifXic",
        "outputId": "083dccb7-4a4e-44a1-91bf-27ca725e18a1"
      },
      "execution_count": null,
      "outputs": [
        {
          "output_type": "stream",
          "name": "stdout",
          "text": [
            "I love my babies\n"
          ]
        }
      ]
    },
    {
      "cell_type": "code",
      "source": [
        "a,b,c,d = 5,3,2,'Hello'\n",
        "print(a)\n",
        "print(b)\n",
        "print(c)"
      ],
      "metadata": {
        "colab": {
          "base_uri": "https://localhost:8080/"
        },
        "id": "uoFbZB5GZPpx",
        "outputId": "aecd6a62-bf75-4107-a6cc-6a4199442f20"
      },
      "execution_count": null,
      "outputs": [
        {
          "output_type": "stream",
          "name": "stdout",
          "text": [
            "5\n",
            "3\n",
            "2\n"
          ]
        }
      ]
    },
    {
      "cell_type": "code",
      "source": [
        "x=y=z='same'\n",
        "print(x)\n",
        "print(y)\n",
        "print(z)"
      ],
      "metadata": {
        "colab": {
          "base_uri": "https://localhost:8080/"
        },
        "id": "ngPPVerAkpTf",
        "outputId": "56e45b74-4dab-4395-e09d-5ca0b0dac905"
      },
      "execution_count": null,
      "outputs": [
        {
          "output_type": "stream",
          "name": "stdout",
          "text": [
            "same\n",
            "same\n",
            "same\n"
          ]
        }
      ]
    },
    {
      "cell_type": "code",
      "source": [
        "x=2\n",
        "((x+12))\n"
      ],
      "metadata": {
        "colab": {
          "base_uri": "https://localhost:8080/"
        },
        "id": "QKbfGCqxtxON",
        "outputId": "ed4faaf9-438f-46c6-f4d8-a77a13daddf0"
      },
      "execution_count": null,
      "outputs": [
        {
          "output_type": "execute_result",
          "data": {
            "text/plain": [
              "14"
            ]
          },
          "metadata": {},
          "execution_count": 6
        }
      ]
    },
    {
      "cell_type": "code",
      "source": [
        "14^2"
      ],
      "metadata": {
        "colab": {
          "base_uri": "https://localhost:8080/"
        },
        "id": "h9JvGrnQumaG",
        "outputId": "2e646d8e-658a-4b8b-836d-43a8dffd2a03"
      },
      "execution_count": null,
      "outputs": [
        {
          "output_type": "execute_result",
          "data": {
            "text/plain": [
              "12"
            ]
          },
          "metadata": {},
          "execution_count": 7
        }
      ]
    },
    {
      "cell_type": "code",
      "source": [
        "8//3"
      ],
      "metadata": {
        "colab": {
          "base_uri": "https://localhost:8080/"
        },
        "id": "XHax6w7mwllS",
        "outputId": "b8fa256b-1a47-4360-bb21-ef8451fe1d7c"
      },
      "execution_count": null,
      "outputs": [
        {
          "output_type": "execute_result",
          "data": {
            "text/plain": [
              "2"
            ]
          },
          "metadata": {},
          "execution_count": 8
        }
      ]
    },
    {
      "cell_type": "code",
      "source": [
        "my_string = 'google'\n",
        "print(my_string[0])\n"
      ],
      "metadata": {
        "colab": {
          "base_uri": "https://localhost:8080/"
        },
        "id": "QVsyr_iw6cpN",
        "outputId": "cbc1366b-cf9e-4283-cfb3-b677ef1c950d"
      },
      "execution_count": null,
      "outputs": [
        {
          "output_type": "stream",
          "name": "stdout",
          "text": [
            "g\n"
          ]
        }
      ]
    },
    {
      "cell_type": "code",
      "source": [
        "from collections import deque\n"
      ],
      "metadata": {
        "id": "s6uX4-Q5bEdO"
      },
      "execution_count": null,
      "outputs": []
    },
    {
      "cell_type": "code",
      "source": [
        "queue = deque([\"Eric\", \"John\", \"Michael\"])"
      ],
      "metadata": {
        "id": "CJb7bQPnbadm"
      },
      "execution_count": null,
      "outputs": []
    },
    {
      "cell_type": "code",
      "source": [
        "queue.append(\"Terry\")"
      ],
      "metadata": {
        "id": "qg07h2UPcSr1"
      },
      "execution_count": null,
      "outputs": []
    },
    {
      "cell_type": "code",
      "source": [
        "queue.append(\"Graham\")"
      ],
      "metadata": {
        "id": "P9WzjnvudBz0"
      },
      "execution_count": null,
      "outputs": []
    },
    {
      "cell_type": "code",
      "source": [
        "my_dictionary = {\"knowledge\": \"Data Science\",\"tool\":\"python\",\"year\":2020}"
      ],
      "metadata": {
        "id": "r0ZoQ04IkwWr"
      },
      "execution_count": null,
      "outputs": []
    },
    {
      "cell_type": "code",
      "source": [
        "for key in my_dictionary.keys():\n",
        "  print(key)"
      ],
      "metadata": {
        "colab": {
          "base_uri": "https://localhost:8080/"
        },
        "id": "V69pb58EoL7i",
        "outputId": "35da3f9d-11c3-4224-cdec-98f17c403c43"
      },
      "execution_count": null,
      "outputs": [
        {
          "output_type": "stream",
          "name": "stdout",
          "text": [
            "knowledge\n",
            "tool\n",
            "year\n"
          ]
        }
      ]
    },
    {
      "cell_type": "code",
      "source": [
        "for value in my_dictionary.values():\n",
        "  print(value)"
      ],
      "metadata": {
        "colab": {
          "base_uri": "https://localhost:8080/"
        },
        "id": "gh8Ap9nGoolo",
        "outputId": "acad36ba-5778-466f-d5f9-942425361feb"
      },
      "execution_count": null,
      "outputs": [
        {
          "output_type": "stream",
          "name": "stdout",
          "text": [
            "Data Science\n",
            "python\n",
            "2020\n"
          ]
        }
      ]
    },
    {
      "cell_type": "code",
      "source": [
        "for item in my_dictionary.items():\n",
        "  print(item)"
      ],
      "metadata": {
        "colab": {
          "base_uri": "https://localhost:8080/"
        },
        "id": "GfQwXlrro4dh",
        "outputId": "0c8adb20-a6d8-4d5d-c681-56805891f10a"
      },
      "execution_count": null,
      "outputs": [
        {
          "output_type": "stream",
          "name": "stdout",
          "text": [
            "('knowledge', 'Data Science')\n",
            "('tool', 'python')\n",
            "('year', 2020)\n"
          ]
        }
      ]
    },
    {
      "cell_type": "code",
      "source": [
        "print(len(my_dictionary))"
      ],
      "metadata": {
        "colab": {
          "base_uri": "https://localhost:8080/"
        },
        "id": "pQo0ag3SpgRo",
        "outputId": "66125e6c-6670-4f9b-d79e-d2953eb3127e"
      },
      "execution_count": null,
      "outputs": [
        {
          "output_type": "stream",
          "name": "stdout",
          "text": [
            "3\n"
          ]
        }
      ]
    },
    {
      "cell_type": "code",
      "source": [
        "my_dictionary [\"learn\"] = True"
      ],
      "metadata": {
        "id": "IWpxP0bTqK9O"
      },
      "execution_count": null,
      "outputs": []
    },
    {
      "cell_type": "code",
      "source": [
        "print(my_dictionary)"
      ],
      "metadata": {
        "colab": {
          "base_uri": "https://localhost:8080/"
        },
        "id": "xqql1tK9rTMV",
        "outputId": "d170c80a-121f-4c2f-c1db-05a6d4fe5d95"
      },
      "execution_count": null,
      "outputs": [
        {
          "output_type": "stream",
          "name": "stdout",
          "text": [
            "{'knowledge': 'Data Science', 'tool': 'python', 'year': 2020, 'learn': True}\n"
          ]
        }
      ]
    },
    {
      "cell_type": "code",
      "source": [
        "x = (2>5) == (3==6)\n",
        "if x:\n",
        "  print('x is True')\n",
        "else:\n",
        "    print('x is not')"
      ],
      "metadata": {
        "colab": {
          "base_uri": "https://localhost:8080/"
        },
        "id": "80w7Ulm07qqt",
        "outputId": "554d22cb-0bcf-4599-b512-abd438b5e87e"
      },
      "execution_count": null,
      "outputs": [
        {
          "output_type": "stream",
          "name": "stdout",
          "text": [
            "x is True\n"
          ]
        }
      ]
    },
    {
      "cell_type": "code",
      "source": [
        "\n",
        "x=19\n",
        "if x < 10:\n",
        "  print('Good morning')\n",
        "elif x<12:\n",
        "  print('Soon time for lunch')\n",
        "elif x<18:\n",
        "  print(\"Good day\")\n",
        "elif x<22:\n",
        "  print('Good evening')\n",
        "else:\n",
        "  print('Good night')"
      ],
      "metadata": {
        "colab": {
          "base_uri": "https://localhost:8080/"
        },
        "id": "z8_QJdyA-P7Z",
        "outputId": "cdb2eb50-b563-421f-d004-7ea0f59c34af"
      },
      "execution_count": null,
      "outputs": [
        {
          "output_type": "stream",
          "name": "stdout",
          "text": [
            "Good evening\n"
          ]
        }
      ]
    },
    {
      "cell_type": "code",
      "source": [
        "def function_name():\n",
        "  print(\"Hello World, this is my first function\")"
      ],
      "metadata": {
        "id": "_BqQUR8dKdq-"
      },
      "execution_count": null,
      "outputs": []
    },
    {
      "cell_type": "code",
      "source": [
        "function_name()"
      ],
      "metadata": {
        "colab": {
          "base_uri": "https://localhost:8080/"
        },
        "id": "DvCT7N4hLGvk",
        "outputId": "1e16b654-3dd9-48c4-91e4-e1cb319ef5e0"
      },
      "execution_count": null,
      "outputs": [
        {
          "output_type": "stream",
          "name": "stdout",
          "text": [
            "Hello World, this is my first function\n"
          ]
        }
      ]
    },
    {
      "cell_type": "code",
      "source": [
        "def function_name():\n",
        "  print(\"Orange is the new black\")"
      ],
      "metadata": {
        "id": "v9QgGKLULTeG"
      },
      "execution_count": null,
      "outputs": []
    },
    {
      "cell_type": "code",
      "source": [
        "Question 1: Write a Python program that accepts an integer (n) and computes the value of n+nn+nnn\n",
        "\n",
        "Sample value of n is 5 \n",
        "\n",
        "Expected Result : 615 (5+55+555)"
      ],
      "metadata": {
        "id": "2b14NfCiUVET"
      },
      "execution_count": null,
      "outputs": []
    },
    {
      "cell_type": "code",
      "source": [
        "n = 5\n",
        "n1 = str(n)\n",
        "n2 = n1 + n1\n",
        "print(n2)"
      ],
      "metadata": {
        "colab": {
          "base_uri": "https://localhost:8080/"
        },
        "id": "Mk_w9vmYat9l",
        "outputId": "e2239e17-fe20-4aea-8699-5024e132fefc"
      },
      "execution_count": null,
      "outputs": [
        {
          "output_type": "stream",
          "name": "stdout",
          "text": [
            "55\n"
          ]
        }
      ]
    },
    {
      "cell_type": "code",
      "source": [
        "n3 = n2 + n1\n",
        "print(n3)"
      ],
      "metadata": {
        "colab": {
          "base_uri": "https://localhost:8080/"
        },
        "id": "B-ib_5qjbgwG",
        "outputId": "3f5e6a10-c778-435e-8389-6a7291e83bcf"
      },
      "execution_count": null,
      "outputs": [
        {
          "output_type": "stream",
          "name": "stdout",
          "text": [
            "555\n"
          ]
        }
      ]
    },
    {
      "cell_type": "code",
      "source": [
        "Result = int(n1) + int(n2) + int(n3)\n",
        "print(Result)"
      ],
      "metadata": {
        "colab": {
          "base_uri": "https://localhost:8080/"
        },
        "id": "Qx2kmVjdbue8",
        "outputId": "cd0e8dd7-6986-4a80-cd6e-816a84094bb4"
      },
      "execution_count": null,
      "outputs": [
        {
          "output_type": "stream",
          "name": "stdout",
          "text": [
            "615\n"
          ]
        }
      ]
    },
    {
      "cell_type": "code",
      "source": [
        "n = 5\n",
        "n1 = str(n)\n",
        "n2 = n1 + n1\n",
        "n3 = n2 + n1\n",
        "Result = int(n1) + int(n2) + int(n3)\n",
        "print(Result)\n",
        "\n"
      ],
      "metadata": {
        "colab": {
          "base_uri": "https://localhost:8080/"
        },
        "id": "cJqbIFKtc1UD",
        "outputId": "3e3c6de9-1fb6-48fe-ed5d-41a9c796b616"
      },
      "execution_count": null,
      "outputs": [
        {
          "output_type": "stream",
          "name": "stdout",
          "text": [
            "615\n"
          ]
        }
      ]
    },
    {
      "cell_type": "code",
      "source": [
        "A = int(input(\"Enter a value\"))\n",
        "if A%2 == 0:\n",
        "  print(\"The number is even\")\n",
        "else:\n",
        "  print(\"The number is odd\")"
      ],
      "metadata": {
        "colab": {
          "base_uri": "https://localhost:8080/"
        },
        "id": "FXyV1oLPfAto",
        "outputId": "38d9949c-ef37-456c-f107-524a9c322a5a"
      },
      "execution_count": null,
      "outputs": [
        {
          "output_type": "stream",
          "name": "stdout",
          "text": [
            "Enter a value11\n",
            "The number is odd\n"
          ]
        }
      ]
    },
    {
      "cell_type": "code",
      "source": [
        "for i in range(2000,3200): \n",
        "  if i%7 == 0 and i%5 != 0:\n",
        "    print(i,end=\" \")"
      ],
      "metadata": {
        "colab": {
          "base_uri": "https://localhost:8080/"
        },
        "id": "jxEU79g0hszk",
        "outputId": "fef68c69-947c-48af-f85b-2f002fb07b93"
      },
      "execution_count": null,
      "outputs": [
        {
          "output_type": "stream",
          "name": "stdout",
          "text": [
            "2002 2009 2016 2023 2037 2044 2051 2058 2072 2079 2086 2093 2107 2114 2121 2128 2142 2149 2156 2163 2177 2184 2191 2198 2212 2219 2226 2233 2247 2254 2261 2268 2282 2289 2296 2303 2317 2324 2331 2338 2352 2359 2366 2373 2387 2394 2401 2408 2422 2429 2436 2443 2457 2464 2471 2478 2492 2499 2506 2513 2527 2534 2541 2548 2562 2569 2576 2583 2597 2604 2611 2618 2632 2639 2646 2653 2667 2674 2681 2688 2702 2709 2716 2723 2737 2744 2751 2758 2772 2779 2786 2793 2807 2814 2821 2828 2842 2849 2856 2863 2877 2884 2891 2898 2912 2919 2926 2933 2947 2954 2961 2968 2982 2989 2996 3003 3017 3024 3031 3038 3052 3059 3066 3073 3087 3094 3101 3108 3122 3129 3136 3143 3157 3164 3171 3178 3192 3199 "
          ]
        }
      ]
    },
    {
      "cell_type": "code",
      "source": [
        "from math import factorial\n",
        "print(factorial(8))"
      ],
      "metadata": {
        "colab": {
          "base_uri": "https://localhost:8080/"
        },
        "id": "iWiMFvbZkWbZ",
        "outputId": "6fe06de5-db8d-4b6b-b5f5-e4695f206d38"
      },
      "execution_count": null,
      "outputs": [
        {
          "output_type": "stream",
          "name": "stdout",
          "text": [
            "40320\n"
          ]
        }
      ]
    },
    {
      "cell_type": "code",
      "source": [
        "my_string = \"hello team\"\n",
        "x = \"\"\n",
        "for i in range(len(my_string)):\n",
        "  if i%2 == 0:\n",
        "    x = x + my_string[i]\n",
        "print(x)"
      ],
      "metadata": {
        "colab": {
          "base_uri": "https://localhost:8080/"
        },
        "id": "L9729NPpnCpi",
        "outputId": "358311c8-cceb-4943-a23e-f724fa83b51a"
      },
      "execution_count": null,
      "outputs": [
        {
          "output_type": "stream",
          "name": "stdout",
          "text": [
            "hlota\n"
          ]
        }
      ]
    },
    {
      "cell_type": "code",
      "source": [
        "my_list = [2*4*6*8]\n",
        "print(my_list)"
      ],
      "metadata": {
        "colab": {
          "base_uri": "https://localhost:8080/"
        },
        "id": "jNfnD0pNJCzd",
        "outputId": "c21c7ce7-75a3-47c6-e4c4-f3302addae75"
      },
      "execution_count": null,
      "outputs": [
        {
          "output_type": "stream",
          "name": "stdout",
          "text": [
            "[384]\n"
          ]
        }
      ]
    },
    {
      "cell_type": "code",
      "source": [
        "dict1= {'a': 100, 'b': 200, 'c': 300}\n",
        "print('dict 1')\n",
        "dict2= {'a': 300, 'b': 200, 'd': 400}\n",
        "print('dict 2')\n",
        "mergedDict={**dict1,**dict2}\n",
        "print(\"Merged dictionary is:\")\n",
        "print(mergedDict)"
      ],
      "metadata": {
        "colab": {
          "base_uri": "https://localhost:8080/"
        },
        "id": "erjzTqXgB63a",
        "outputId": "ada72b2c-b1c9-457a-dbe0-89c803001898"
      },
      "execution_count": null,
      "outputs": [
        {
          "output_type": "stream",
          "name": "stdout",
          "text": [
            "dict 1\n",
            "dict 2\n",
            "Merged dictionary is:\n",
            "{'a': 300, 'b': 200, 'c': 300, 'd': 400}\n"
          ]
        }
      ]
    },
    {
      "cell_type": "code",
      "source": [
        "b=[2,5,7,9]\n",
        "print(len(b))"
      ],
      "metadata": {
        "colab": {
          "base_uri": "https://localhost:8080/"
        },
        "id": "I59ac21-GaA0",
        "outputId": "4a62b439-e0ef-4a88-b401-ed045163031d"
      },
      "execution_count": null,
      "outputs": [
        {
          "output_type": "stream",
          "name": "stdout",
          "text": [
            "4\n"
          ]
        }
      ]
    },
    {
      "cell_type": "code",
      "source": [
        "def test_5(a):\n",
        "    if a < 5 :\n",
        "        print(a,\"is lower than 5\")\n",
        "    elif a == 5:\n",
        "        print(a,\"is equal to 5\")\n",
        "    else:\n",
        "        print(a,'is higher than 5')\n",
        "test_5(25) "
      ],
      "metadata": {
        "colab": {
          "base_uri": "https://localhost:8080/"
        },
        "id": "ng1a7s_2IohG",
        "outputId": "a277f9a4-2595-4453-c41c-c194a5772a91"
      },
      "execution_count": null,
      "outputs": [
        {
          "output_type": "stream",
          "name": "stdout",
          "text": [
            "25 is higher than 5\n"
          ]
        }
      ]
    },
    {
      "cell_type": "code",
      "source": [
        "def subtract(x,y):\n",
        "  x = 10\n",
        "  y = 3\n",
        "  return x-y\n",
        "  print()"
      ],
      "metadata": {
        "id": "hIqEwcz-f3FM"
      },
      "execution_count": null,
      "outputs": []
    },
    {
      "cell_type": "markdown",
      "source": [
        "Question 1"
      ],
      "metadata": {
        "id": "CBPapiedb_1a"
      }
    },
    {
      "cell_type": "code",
      "source": [
        "def max( x, y ):\n",
        "\n",
        "    if x > y:\n",
        "\n",
        "        return x\n",
        "\n",
        "    return y\n",
        "\n",
        "def maxx( x, y, z ):\n",
        "\n",
        "    return max( x, max( y, z ) )\n",
        "\n",
        "print(\"max number is \",maxx(3, 6, 90))"
      ],
      "metadata": {
        "colab": {
          "base_uri": "https://localhost:8080/"
        },
        "id": "7ooNtJPMcCoL",
        "outputId": "dd9aaf5b-944b-43c9-b611-b3cb483d6edb"
      },
      "execution_count": null,
      "outputs": [
        {
          "output_type": "stream",
          "name": "stdout",
          "text": [
            "max number is  90\n"
          ]
        }
      ]
    },
    {
      "cell_type": "markdown",
      "source": [
        "Q2: Write a function calculation() such that it can accept two variables and calculate the addition and subtraction of it. And also it must return both addition and subtraction in a single return call. For example: calculation(40, 10) should produce 50, 30"
      ],
      "metadata": {
        "id": "H9HVqgQ-cIZn"
      }
    },
    {
      "cell_type": "code",
      "source": [
        "def calculate(a, b):\n",
        "    return a + b, a - b\n",
        "\n",
        "\n",
        "answer = calculate(40, 10)\n",
        "print(answer)"
      ],
      "metadata": {
        "colab": {
          "base_uri": "https://localhost:8080/"
        },
        "id": "ejQ0GUkScOYi",
        "outputId": "6c0ee3cd-83c5-4a0a-8a66-e0ed2cecb7f2"
      },
      "execution_count": null,
      "outputs": [
        {
          "output_type": "stream",
          "name": "stdout",
          "text": [
            "(50, 30)\n"
          ]
        }
      ]
    },
    {
      "cell_type": "markdown",
      "source": [
        "Q3:  Write a function that sums the elements of a list of integers.\n",
        "\n",
        "* Write a function that multiplies the elements of an integer list.\n",
        "\n",
        "* Use the two functions to sum the elements whose position is an even number (0,2,4…) and multiply the rest."
      ],
      "metadata": {
        "id": "8V7bVInncUls"
      }
    },
    {
      "cell_type": "code",
      "source": [
        "def Summation(num):\n",
        "    Sum = 0\n",
        "    for i in num:\n",
        "        Sum = Sum + i\n",
        "    return Sum\n",
        "\n",
        "print(Summation([1, 2, 3, 4, 5, 6, 7, 8,9,10]))  \n",
        "\n",
        "def Multiply(num):\n",
        "    Prod = 1\n",
        "    for i in num:\n",
        "        Prod *= i\n",
        "    return Prod\n",
        "\n",
        "print(Multiply([1, 2, 3, 4, 5, 6, 7, 8,9,10]))    \n",
        "\n",
        "num = [1, 2, 3, 4, 5, 6, 7, 8,9,10]\n",
        "\n",
        "Newlist = list(filter(lambda x: x%2 == 0, num)) \n",
        "\n",
        "print(Summation(Newlist))\n",
        "\n",
        "Newlist2 = list(filter(lambda x: x%2 !=0, num))\n",
        "\n",
        "print(Multiply(Newlist2))"
      ],
      "metadata": {
        "colab": {
          "base_uri": "https://localhost:8080/"
        },
        "id": "s8vlkYzjcaxi",
        "outputId": "e1b2503f-7055-4f7b-a6da-d719c9cfe315"
      },
      "execution_count": null,
      "outputs": [
        {
          "output_type": "stream",
          "name": "stdout",
          "text": [
            "55\n",
            "3628800\n",
            "30\n",
            "945\n"
          ]
        }
      ]
    },
    {
      "cell_type": "markdown",
      "source": [
        "Q4: Write a Python program that accepts a hyphen-separated sequence of words as input and prints the words in a hyphen-separated sequence after sorting them alphabetically.\n",
        "\n",
        "Sample Items : green-red-yellow-black-white\n",
        "\n",
        "Expected Result : black-green-red-white-yellow"
      ],
      "metadata": {
        "id": "N0b5yzLRcpu7"
      }
    },
    {
      "cell_type": "code",
      "source": [
        "items=[n for n in input().split('-')]\n",
        "items.sort()\n",
        "print('-'.join(items))"
      ],
      "metadata": {
        "colab": {
          "base_uri": "https://localhost:8080/"
        },
        "id": "ql39x3rJcq0O",
        "outputId": "4719298a-118a-4cd2-b75b-6db79d56240e"
      },
      "execution_count": null,
      "outputs": [
        {
          "output_type": "stream",
          "name": "stdout",
          "text": [
            "\n",
            "\n"
          ]
        }
      ]
    },
    {
      "cell_type": "markdown",
      "source": [
        "Write a Python program to convert an array to an ordinary list with the same items."
      ],
      "metadata": {
        "id": "I9w26OnW0HFM"
      }
    },
    {
      "cell_type": "code",
      "source": [
        "from array import *\n",
        "array_num = array('i', [1, 2, 3, 4, 5, 6, 7, 8])\n",
        "print(\"Original array: \"+str(array_num))\n",
        "num_list = array_num.tolist()\n",
        "print(\"Convert the said array to an ordinary list with the same items:\")\n",
        "print(num_list)"
      ],
      "metadata": {
        "colab": {
          "base_uri": "https://localhost:8080/"
        },
        "id": "uRai6KE80IBh",
        "outputId": "cc619e68-3c51-421f-d9a0-3f3767616db3"
      },
      "execution_count": null,
      "outputs": [
        {
          "output_type": "stream",
          "name": "stdout",
          "text": [
            "Original array: array('i', [1, 2, 3, 4, 5, 6, 7, 8])\n",
            "Convert the said array to an ordinary list with the same items:\n",
            "[1, 2, 3, 4, 5, 6, 7, 8]\n"
          ]
        }
      ]
    },
    {
      "cell_type": "markdown",
      "source": [
        "Write a NumPy program to compute the sum of the diagonal element of a given array."
      ],
      "metadata": {
        "id": "e8519L9q0R5b"
      }
    },
    {
      "cell_type": "code",
      "source": [
        "import numpy as np\n",
        "m = np.arange(6).reshape(2,3)\n",
        "print(\"Original matrix:\")\n",
        "print(m)\n",
        "result =  np.trace(m)\n",
        "print(\"Condition number of the said matrix:\")\n",
        "print(result)"
      ],
      "metadata": {
        "colab": {
          "base_uri": "https://localhost:8080/"
        },
        "id": "1hBoe_AE0Upn",
        "outputId": "7f5b3151-5acf-449f-c7b0-1ee6380807c7"
      },
      "execution_count": null,
      "outputs": [
        {
          "output_type": "stream",
          "name": "stdout",
          "text": [
            "Original matrix:\n",
            "[[0 1 2]\n",
            " [3 4 5]]\n",
            "Condition number of the said matrix:\n",
            "4\n"
          ]
        }
      ]
    },
    {
      "cell_type": "markdown",
      "source": [
        "Given an array of your choice, get all the values higher than X :if a = [[1,2],[3,5]] and x = 2 :  then 3 and 5 are higher than 2."
      ],
      "metadata": {
        "id": "-HuRYvca0dPI"
      }
    },
    {
      "cell_type": "code",
      "source": [
        "import numpy as np\n",
        "x = np.array([[1, 2], [3, 5]])\n",
        "print(\"Original array: \")\n",
        "print(x)\n",
        "print(\"Values bigger than 2 =\", x[x>2])\n",
        "print(\"Their indices are \", np.nonzero(x > 2))"
      ],
      "metadata": {
        "colab": {
          "base_uri": "https://localhost:8080/"
        },
        "id": "E_FrZIJO0iVF",
        "outputId": "fda4e174-da9e-4870-f379-c7a03ac94478"
      },
      "execution_count": null,
      "outputs": [
        {
          "output_type": "stream",
          "name": "stdout",
          "text": [
            "Original array: \n",
            "[[1 2]\n",
            " [3 5]]\n",
            "Values bigger than 2 = [3 5]\n",
            "Their indices are  (array([1, 1]), array([0, 1]))\n"
          ]
        }
      ]
    },
    {
      "cell_type": "markdown",
      "source": [
        "Given two arrays A&B having the same shape. The task is to apply addition of A and B : C is the new array. "
      ],
      "metadata": {
        "id": "J5-O6TBU0n_J"
      }
    },
    {
      "cell_type": "code",
      "source": [
        "A = np.array([0, 1, 2])\n",
        "B = np.array([5, 5, 5])\n",
        "A + B"
      ],
      "metadata": {
        "colab": {
          "base_uri": "https://localhost:8080/"
        },
        "id": "I0sMeBvQ0rLr",
        "outputId": "43aba1a0-16fc-44bb-d6d1-35616095d133"
      },
      "execution_count": null,
      "outputs": [
        {
          "output_type": "execute_result",
          "data": {
            "text/plain": [
              "array([5, 6, 7])"
            ]
          },
          "metadata": {},
          "execution_count": 4
        }
      ]
    },
    {
      "cell_type": "code",
      "source": [
        "A = np.array([0, 1, 2])\n",
        "B = np.array([5, 5, 5])\n",
        "print(\"C =\", A + B)"
      ],
      "metadata": {
        "colab": {
          "base_uri": "https://localhost:8080/"
        },
        "id": "Pkti4M260xO7",
        "outputId": "6e984b46-5249-4483-a717-5e8143809fee"
      },
      "execution_count": null,
      "outputs": [
        {
          "output_type": "stream",
          "name": "stdout",
          "text": [
            "C = [5 6 7]\n"
          ]
        }
      ]
    },
    {
      "cell_type": "code",
      "source": [
        "open(r\"C:\\Users\\adekemisola.martins\\Downloads\\python.txt\",\"w+\" )"
      ],
      "metadata": {
        "colab": {
          "base_uri": "https://localhost:8080/"
        },
        "id": "Xz-u2ncPw0lZ",
        "outputId": "1613fd6a-271b-4d42-c661-f225669ce376"
      },
      "execution_count": null,
      "outputs": [
        {
          "output_type": "execute_result",
          "data": {
            "text/plain": [
              "<_io.TextIOWrapper name='C:\\\\Users\\\\adekemisola.martins\\\\Downloads\\\\python.txt' mode='w+' encoding='UTF-8'>"
            ]
          },
          "metadata": {},
          "execution_count": 4
        }
      ]
    },
    {
      "cell_type": "code",
      "source": [
        "N = open(r\"C:\\Users\\adekemisola.martins\\Downloads\\python.txt\",\"w+\" )\n",
        "print(N.read())"
      ],
      "metadata": {
        "colab": {
          "base_uri": "https://localhost:8080/"
        },
        "id": "TYyQ8pTrDxiF",
        "outputId": "a5125773-fc66-4898-8599-227a85cc1a57"
      },
      "execution_count": null,
      "outputs": [
        {
          "output_type": "stream",
          "name": "stdout",
          "text": [
            "\n"
          ]
        }
      ]
    },
    {
      "cell_type": "markdown",
      "source": [
        "Write a Python program to read first n lines of a file. (try to use readlines() function)"
      ],
      "metadata": {
        "id": "Y5KUaRlYx-7k"
      }
    },
    {
      "cell_type": "code",
      "source": [
        "m = 9\n",
        "with open(r\"C:\\Users\\adekemisola.martins\\Downloads\\python.txt\",\"w+\" )as m:\n",
        "  last_n_files = m.readlines()[-1:]"
      ],
      "metadata": {
        "id": "spsQZXEUzQtG"
      },
      "execution_count": null,
      "outputs": []
    },
    {
      "cell_type": "markdown",
      "source": [
        "3. Write a Python program to read last n lines of a file"
      ],
      "metadata": {
        "id": "XQfVm73zzOcP"
      }
    },
    {
      "cell_type": "code",
      "source": [
        "N = int(input('Please enter the number lines you want to read from the file:'))\n",
        "with open(r\"C:\\Users\\adekemisola.martins\\Downloads\\python.txt\", 'r') as m:\n",
        "    Reading = m.readlines()\n",
        "    for x in Reading[0:N]:\n",
        "        print(x, end ='')"
      ],
      "metadata": {
        "colab": {
          "base_uri": "https://localhost:8080/"
        },
        "id": "kyjdsY3h_GT3",
        "outputId": "c55d76b9-5889-45c7-e29b-f22331152753"
      },
      "execution_count": null,
      "outputs": [
        {
          "name": "stdout",
          "output_type": "stream",
          "text": [
            "Please enter the number lines you want to read from the file:6\n"
          ]
        }
      ]
    },
    {
      "cell_type": "code",
      "source": [
        "N = int(input('Please enter the number lines you want to read from the file:'))\n",
        "with open(r\"C:\\Users\\adekemisola.martins\\Downloads\\python.txt\", 'r') as m:\n",
        "    Reading = m.readlines()\n",
        "    for x in Reading[-N:]:\n",
        "        print(x, end ='')"
      ],
      "metadata": {
        "colab": {
          "base_uri": "https://localhost:8080/"
        },
        "id": "-d-UD_ylBJIP",
        "outputId": "c359d0c2-e4fa-4cb6-d7af-3b17e362f958"
      },
      "execution_count": null,
      "outputs": [
        {
          "name": "stdout",
          "output_type": "stream",
          "text": [
            "Please enter the number lines you want to read from the file:5\n"
          ]
        }
      ]
    },
    {
      "cell_type": "code",
      "source": [
        "N = 0\n",
        "with open(r\"C:\\Users\\adekemisola.martins\\Downloads\\python.txt\", 'r') as m:\n",
        "    data = m.read()\n",
        "    Split_Read = data.split()\n",
        "    N += len(Split_Read)\n",
        "\n",
        "print(N)"
      ],
      "metadata": {
        "colab": {
          "base_uri": "https://localhost:8080/"
        },
        "id": "R_L0rGR3IreA",
        "outputId": "fb6822a5-de11-4268-b525-05b18e051c55"
      },
      "execution_count": null,
      "outputs": [
        {
          "output_type": "stream",
          "name": "stdout",
          "text": [
            "0\n"
          ]
        }
      ]
    },
    {
      "cell_type": "markdown",
      "source": [
        "Display numbers from -10 to -1 using for loop"
      ],
      "metadata": {
        "id": "39Ulnce_kmMV"
      }
    },
    {
      "cell_type": "code",
      "source": [
        "for number in range(-10,0):\n",
        "  print(number)"
      ],
      "metadata": {
        "colab": {
          "base_uri": "https://localhost:8080/"
        },
        "id": "LMtEBJYTknL1",
        "outputId": "fac7f699-0296-4f9a-859a-f35199aa43d8"
      },
      "execution_count": 3,
      "outputs": [
        {
          "output_type": "stream",
          "name": "stdout",
          "text": [
            "-10\n",
            "-9\n",
            "-8\n",
            "-7\n",
            "-6\n",
            "-5\n",
            "-4\n",
            "-3\n",
            "-2\n",
            "-1\n"
          ]
        }
      ]
    },
    {
      "cell_type": "markdown",
      "source": [],
      "metadata": {
        "id": "sOi3X0qtlWfl"
      }
    },
    {
      "cell_type": "markdown",
      "source": [
        "Given a number count the total number of digits in a number, for example, the number is 75869, so the output should be 5"
      ],
      "metadata": {
        "id": "FlfNQRqPlviF"
      }
    },
    {
      "cell_type": "code",
      "source": [
        "count = 0\n",
        "n = 75869\n",
        "n = str(n)\n",
        "for number in range(len(n)):\n",
        "  count = number + 1\n",
        "print(count)   \n"
      ],
      "metadata": {
        "colab": {
          "base_uri": "https://localhost:8080/"
        },
        "id": "wALsYDI_lxQH",
        "outputId": "416a211e-c0b7-4c24-a5f3-12d43f3e0d42"
      },
      "execution_count": 5,
      "outputs": [
        {
          "output_type": "stream",
          "name": "stdout",
          "text": [
            "5\n"
          ]
        }
      ]
    },
    {
      "cell_type": "markdown",
      "source": [
        "Write a function which Displays the cube of the number up to a given integer, for example the number is 2 the cube should be 8"
      ],
      "metadata": {
        "id": "eW99vW3bn-VM"
      }
    },
    {
      "cell_type": "code",
      "source": [
        "def i(y):\n",
        "  result = y*y*y\n",
        "  return result\n",
        "i(2)  "
      ],
      "metadata": {
        "colab": {
          "base_uri": "https://localhost:8080/"
        },
        "id": "bMVwfcpin_qE",
        "outputId": "596627f7-f22c-4beb-b325-984cfe7aaa58"
      },
      "execution_count": 6,
      "outputs": [
        {
          "output_type": "execute_result",
          "data": {
            "text/plain": [
              "8"
            ]
          },
          "metadata": {},
          "execution_count": 6
        }
      ]
    },
    {
      "cell_type": "markdown",
      "source": [
        "Given two integer numbers return their product. If the product is greater than 1000, then return their sum"
      ],
      "metadata": {
        "id": "jYQ9_Ef7p20j"
      }
    },
    {
      "cell_type": "code",
      "source": [
        "x = 5\n",
        "y = 23\n",
        "if(x*y) > 1000:\n",
        "  print(x*y)\n",
        "else:\n",
        "  print(x+y)  \n"
      ],
      "metadata": {
        "colab": {
          "base_uri": "https://localhost:8080/"
        },
        "id": "Ly7jd2Pfp7KE",
        "outputId": "bc533768-fb1d-49bb-82af-da62d0eafd31"
      },
      "execution_count": 9,
      "outputs": [
        {
          "output_type": "stream",
          "name": "stdout",
          "text": [
            "28\n"
          ]
        }
      ]
    },
    {
      "cell_type": "code",
      "source": [
        "def cabrat(x,y):\n",
        "  prod = x*y\n",
        "  s = x+y\n",
        "  if prod > 1000:\n",
        "    return s\n",
        "  else:\n",
        "    return prod\n",
        "cabrat(140,10)    \n",
        "\n",
        "\n",
        "\n"
      ],
      "metadata": {
        "colab": {
          "base_uri": "https://localhost:8080/"
        },
        "id": "rVY9So0Mr0dj",
        "outputId": "c4ff2be5-e612-4ca8-975a-d9bb20e5f0c1"
      },
      "execution_count": 16,
      "outputs": [
        {
          "output_type": "execute_result",
          "data": {
            "text/plain": [
              "150"
            ]
          },
          "metadata": {},
          "execution_count": 16
        }
      ]
    },
    {
      "cell_type": "markdown",
      "source": [
        "Given a list of numbers, return True if first and last number of a list is same"
      ],
      "metadata": {
        "id": "Qp1WOPBBuI4n"
      }
    },
    {
      "cell_type": "code",
      "source": [
        "list1 = [2,4,5,6,8,21]\n",
        "list2 = [3,5,9,13,21,21]\n",
        "if list1[0] == list2[-1]:\n",
        "  print(True)\n",
        "else:\n",
        " print(False)\n",
        " \n"
      ],
      "metadata": {
        "colab": {
          "base_uri": "https://localhost:8080/"
        },
        "id": "3hJoCsrksS-T",
        "outputId": "7ba74591-004d-4014-8c02-8c6afb908d15"
      },
      "execution_count": 23,
      "outputs": [
        {
          "output_type": "stream",
          "name": "stdout",
          "text": [
            "False\n"
          ]
        }
      ]
    },
    {
      "cell_type": "markdown",
      "source": [
        "Given a two list of numbers create a new list such that new list should contain only odd numbers from the first list and even numbers from the second list, for example list1 =  [10, 20, 23, 11, 17] and list 2 = [13, 43, 24, 36, 12]  => result should be [23, 11, 17, 24, 36, 12]"
      ],
      "metadata": {
        "id": "16HUiZlKxlr7"
      }
    },
    {
      "cell_type": "code",
      "source": [
        "list1 = [10, 20, 23, 11, 17]\n",
        "list2 = [13, 43, 24, 36, 12] \n",
        "list3 = []\n",
        "for n in range((len(list1))):\n",
        "  if list1[n]%2 != 0:\n",
        "    list3.append(list1[n])\n",
        "for n in range((len(list2))):\n",
        "  if list2[n]%2 == 0:\n",
        "    list3.append(list2[n])\n",
        "print(list3)\n"
      ],
      "metadata": {
        "colab": {
          "base_uri": "https://localhost:8080/"
        },
        "id": "biC0YayUxnpK",
        "outputId": "0244aba6-f58e-4332-a350-bf4412a312b0"
      },
      "execution_count": 26,
      "outputs": [
        {
          "output_type": "stream",
          "name": "stdout",
          "text": [
            "[23, 11, 17, 24, 36, 12]\n"
          ]
        }
      ]
    },
    {
      "cell_type": "markdown",
      "source": [
        "Write a function which Iterates a given list and counts the occurrence of each element and creates a dictionary to show the count of each element, for example: input list  [11, 45, 8, 11, 23, 45, 23, 45, 89]=> result should be {11: 2, 45: 3, 8: 1, 23: 2, 89: 1}"
      ],
      "metadata": {
        "id": "unRsO_BF157y"
      }
    },
    {
      "cell_type": "code",
      "source": [
        "from collections import Counter"
      ],
      "metadata": {
        "id": "5TTMHV2V17fm"
      },
      "execution_count": 27,
      "outputs": []
    },
    {
      "cell_type": "code",
      "source": [
        "x =  [11, 45, 8, 11, 23, 45, 23, 45, 89]\n",
        "y = Counter(x)\n",
        "print(y)"
      ],
      "metadata": {
        "colab": {
          "base_uri": "https://localhost:8080/"
        },
        "id": "d26EufHe2l-5",
        "outputId": "24372e05-c290-47c4-e743-08b871cb9828"
      },
      "execution_count": 28,
      "outputs": [
        {
          "output_type": "stream",
          "name": "stdout",
          "text": [
            "Counter({45: 3, 11: 2, 23: 2, 8: 1, 89: 1})\n"
          ]
        }
      ]
    },
    {
      "cell_type": "markdown",
      "source": [
        "Write a function which finds the intersection of two sets and removes common elements from the first set. for example: First Set  {65, 42, 78, 83, 23, 57, 29} and Second Set  {67, 73, 43, 48, 83, 57, 29} => Intersection should be  {57, 83, 29} and First Set after removing common element  {65, 42, 78, 23}"
      ],
      "metadata": {
        "id": "aMmWyo-G3EjD"
      }
    },
    {
      "cell_type": "code",
      "source": [
        "x =  {65, 42, 78, 83, 23, 57, 29}\n",
        "y = {67, 73, 43, 48, 83, 57, 29}\n",
        "v = x & y\n",
        "print(x-v)"
      ],
      "metadata": {
        "colab": {
          "base_uri": "https://localhost:8080/"
        },
        "id": "AlBsz3KF3FoZ",
        "outputId": "320e4680-3d94-4b70-e939-68b3b5da4dfe"
      },
      "execution_count": 30,
      "outputs": [
        {
          "output_type": "stream",
          "name": "stdout",
          "text": [
            "{65, 42, 78, 23}\n"
          ]
        }
      ]
    }
  ]
}